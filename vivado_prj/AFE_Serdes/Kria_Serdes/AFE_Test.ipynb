{
 "cells": [
  {
   "cell_type": "markdown",
   "id": "9104cf99",
   "metadata": {},
   "source": [
    "# Prueba de conexion con el AFE5808A\n",
    "\n",
    "En este documento se realizará una prueba de conexion con el AFE5808A a traves de petalinux usando la Kria Robotics KR260"
   ]
  },
  {
   "cell_type": "markdown",
   "id": "687530da",
   "metadata": {},
   "source": [
    "### Importacion de la libreria del AFE SPI\n",
    "\n",
    "En esta primera parte se evaluara la escritura de registros y lectura de datos en el register map a traves del slow control"
   ]
  },
  {
   "cell_type": "code",
   "execution_count": 1,
   "id": "3700b2d9",
   "metadata": {},
   "outputs": [],
   "source": [
    "import ctypes\n",
    "import time\n",
    "\n",
    "import matplotlib.pyplot as plt\n",
    "import os\n",
    "import mmap\n",
    "import struct\n",
    "import numpy as np\n",
    "import subprocess\n",
    "\n",
    "from dma_driver import *\n",
    "from afe5808a import *"
   ]
  },
  {
   "cell_type": "code",
   "execution_count": 2,
   "id": "826e77d3",
   "metadata": {},
   "outputs": [],
   "source": [
    "def run_command(command):\n",
    "    \"\"\"Ejecuta un comando en la terminal y muestra la salida en tiempo real.\"\"\"\n",
    "    process = subprocess.Popen(command, shell=True, stdout=subprocess.PIPE, stderr=subprocess.PIPE, text=True)\n",
    "\n",
    "    for line in process.stdout:\n",
    "        print(line, end=\"\")  # Imprime la salida en tiempo real\n",
    "\n",
    "    process.wait()  # Esperar a que termine el proceso\n",
    "    if process.returncode != 0:\n",
    "        print(f\"\\nError en el comando: {command}\")\n",
    "        print(process.stderr.read())"
   ]
  },
  {
   "cell_type": "code",
   "execution_count": 3,
   "id": "8b17e34f",
   "metadata": {},
   "outputs": [
    {
     "name": "stdout",
     "output_type": "stream",
     "text": [
      "remove from slot 0 returns: 0 (Ok)\n",
      "kria_serdes: loaded to slot 0\n"
     ]
    }
   ],
   "source": [
    "run_command(\"xmutil unloadapp\")\n",
    "run_command(\"xmutil loadapp kria_serdes\")"
   ]
  },
  {
   "cell_type": "code",
   "execution_count": 4,
   "id": "9d8121d3",
   "metadata": {},
   "outputs": [],
   "source": [
    "# Cambiar propietario de dispositivos\n",
    "devices = [\"/dev/spidev3.0\"]\n",
    "for dev in devices:\n",
    "    run_command(f\"chown petalinux:petalinux {dev}\")\n",
    "    run_command(f\"chmod 777 {dev}\")"
   ]
  },
  {
   "cell_type": "code",
   "execution_count": 5,
   "id": "99ca138b",
   "metadata": {},
   "outputs": [
    {
     "name": "stdout",
     "output_type": "stream",
     "text": [
      "497\n",
      "498\n",
      "499\n"
     ]
    }
   ],
   "source": [
    "# Exportar los GPIOs\n",
    "\n",
    "run_command(f\"chown petalinux:petalinux -R /sys/class/gpio/gpiochip497/*\")\n",
    "run_command(f\"chown petalinux:petalinux -R /sys/class/gpio/gpiochip498/*\")\n",
    "\n",
    "gpios = [497, 498, 499]\n",
    "for gpio in gpios:\n",
    "    run_command(f\"echo {gpio} | sudo tee /sys/class/gpio/export\")\n",
    "    \n",
    "for gpio in gpios:\n",
    "    run_command(f\"chown petalinux:petalinux -R /sys/class/gpio/gpio{gpio}/*\")"
   ]
  },
  {
   "cell_type": "markdown",
   "id": "44757054",
   "metadata": {},
   "source": [
    "### Creacion del objeto afe5808a\n",
    "\n",
    "Se cargan los perifericos para el manejo del control lento del AFE"
   ]
  },
  {
   "cell_type": "code",
   "execution_count": 6,
   "id": "7140dc42",
   "metadata": {},
   "outputs": [],
   "source": [
    "# Cargar la biblioteca compartida\n",
    "my_library = ctypes.CDLL('./afe5808a_lib.so')"
   ]
  },
  {
   "cell_type": "code",
   "execution_count": 7,
   "id": "43644cfc",
   "metadata": {},
   "outputs": [
    {
     "data": {
      "text/plain": [
       "0"
      ]
     },
     "execution_count": 7,
     "metadata": {},
     "output_type": "execute_result"
    }
   ],
   "source": [
    "# Peropheral config\n",
    "my_library.MX_GPIO_Init() # Initialize the GPIO driver\n"
   ]
  },
  {
   "cell_type": "code",
   "execution_count": 8,
   "id": "54f5af36",
   "metadata": {},
   "outputs": [
    {
     "data": {
      "text/plain": [
       "0"
      ]
     },
     "execution_count": 8,
     "metadata": {},
     "output_type": "execute_result"
    }
   ],
   "source": [
    "my_library.MX_SPI3_Init() # Initialize the SPI driver"
   ]
  },
  {
   "cell_type": "markdown",
   "id": "f5dd846a",
   "metadata": {},
   "source": [
    "### Instanciacion de los objetos dentro de la libreria\n",
    "\n",
    "Se instancia el objeto del AFE para utilizarlo"
   ]
  },
  {
   "cell_type": "code",
   "execution_count": 9,
   "id": "1ff19145",
   "metadata": {},
   "outputs": [
    {
     "data": {
      "text/plain": [
       "0"
      ]
     },
     "execution_count": 9,
     "metadata": {},
     "output_type": "execute_result"
    }
   ],
   "source": [
    "# AFE Initialization\n",
    "my_library.MX_AFE0_Init() # Initialize the AFE0"
   ]
  },
  {
   "cell_type": "markdown",
   "id": "03a49009",
   "metadata": {},
   "source": [
    "---"
   ]
  },
  {
   "cell_type": "markdown",
   "id": "5a2fb4c4",
   "metadata": {},
   "source": [
    "## Instanciando el objeto AFE 0\n",
    "\n",
    "con este objeto manejaremos los datos del AFE"
   ]
  },
  {
   "cell_type": "code",
   "execution_count": 10,
   "id": "8c3863f6",
   "metadata": {},
   "outputs": [],
   "source": [
    "# Accede a la instancia de la estructura (en este caso, hafe0)\n",
    "hafe0 = my_library.hafe0\n",
    "\n",
    "# Convierte la instancia a la estructura definida en Python\n",
    "hafe0_py = ctypes.cast(hafe0, ctypes.POINTER(AFE_HandleTypeDef)).contents"
   ]
  },
  {
   "cell_type": "markdown",
   "id": "4fe169ae",
   "metadata": {},
   "source": [
    "---"
   ]
  },
  {
   "cell_type": "markdown",
   "id": "b421cff4",
   "metadata": {},
   "source": [
    "### Prueba de escritura y lectura de registros crudos\n",
    "\n",
    "Aqui se probara la lectura y la escritura de registros crudos"
   ]
  },
  {
   "cell_type": "code",
   "execution_count": 11,
   "id": "aef7a1fa",
   "metadata": {},
   "outputs": [
    {
     "name": "stdout",
     "output_type": "stream",
     "text": [
      "Configuring SPI MODE_2, Previous = 0, New = 3 \n",
      "REG00bits =  0x0\n"
     ]
    }
   ],
   "source": [
    "writeData = (ctypes.c_uint16)(1)\n",
    "\n",
    "# Cambia el valor del regitro\n",
    "my_library.HAL_AFEWriteRegister(hafe0, 0, ctypes.byref(writeData))\n",
    "\n",
    "readData = (ctypes.c_uint16)(0)\n",
    "my_library.HAL_AFEReadRegister(hafe0, 0, ctypes.byref(readData))\n",
    "print(\"REG00bits = \", hex(readData.value))"
   ]
  },
  {
   "cell_type": "code",
   "execution_count": 12,
   "id": "58b2b4e1",
   "metadata": {},
   "outputs": [
    {
     "name": "stdout",
     "output_type": "stream",
     "text": [
      "REG01bits =  0x0\n"
     ]
    }
   ],
   "source": [
    "readData = (ctypes.c_uint16)(0)\n",
    "my_library.HAL_AFEReadRegister(hafe0, 4, ctypes.byref(readData))\n",
    "print(\"REG01bits = \", hex(readData.value))"
   ]
  },
  {
   "cell_type": "code",
   "execution_count": 13,
   "id": "a33cedc4",
   "metadata": {},
   "outputs": [
    {
     "name": "stdout",
     "output_type": "stream",
     "text": [
      "REG01bits =  0x0\n",
      "REG00bits =  0x18\n"
     ]
    }
   ],
   "source": [
    "readData = (ctypes.c_uint16)(0)\n",
    "my_library.HAL_AFEReadRegister(hafe0, 4, ctypes.byref(readData))\n",
    "print(\"REG01bits = \", hex(readData.value))\n",
    "\n",
    "writeData = (ctypes.c_uint16)(0x18)\n",
    "my_library.HAL_AFEWriteRegister(hafe0, 4, ctypes.byref(writeData))\n",
    "\n",
    "readData = (ctypes.c_uint16)(0)\n",
    "my_library.HAL_AFEReadRegister(hafe0, 4, ctypes.byref(readData))\n",
    "print(\"REG00bits = \", hex(readData.value))"
   ]
  },
  {
   "cell_type": "code",
   "execution_count": 14,
   "id": "9f33dbe2",
   "metadata": {},
   "outputs": [
    {
     "name": "stdout",
     "output_type": "stream",
     "text": [
      "REG01bits =  0x0\n",
      "REG00bits =  0x8000\n"
     ]
    }
   ],
   "source": [
    "readData = (ctypes.c_uint16)(0)\n",
    "my_library.HAL_AFEReadRegister(hafe0, 1, ctypes.byref(readData))\n",
    "print(\"REG01bits = \", hex(readData.value))\n",
    "\n",
    "writeData = (ctypes.c_uint16)(0x8000)\n",
    "my_library.HAL_AFEWriteRegister(hafe0, 1, ctypes.byref(writeData))\n",
    "\n",
    "readData = (ctypes.c_uint16)(0)\n",
    "my_library.HAL_AFEReadRegister(hafe0, 1, ctypes.byref(readData))\n",
    "print(\"REG00bits = \", hex(readData.value))"
   ]
  },
  {
   "cell_type": "markdown",
   "id": "32d99f34",
   "metadata": {},
   "source": [
    "## Configuracion basica del AFE"
   ]
  },
  {
   "cell_type": "code",
   "execution_count": 15,
   "id": "89596d4e",
   "metadata": {},
   "outputs": [
    {
     "data": {
      "text/plain": [
       "0"
      ]
     },
     "execution_count": 15,
     "metadata": {},
     "output_type": "execute_result"
    }
   ],
   "source": [
    "# Send the configuration sequence for AFE 0\n",
    "my_library.HAL_AFE_InitialConfig(my_library.hafe0)"
   ]
  },
  {
   "cell_type": "code",
   "execution_count": 16,
   "id": "3d0e977e",
   "metadata": {},
   "outputs": [
    {
     "data": {
      "text/plain": [
       "0"
      ]
     },
     "execution_count": 16,
     "metadata": {},
     "output_type": "execute_result"
    }
   ],
   "source": [
    "# Send the configuration sequence for AFE 0\n",
    "my_library.HAL_AFE_ResetConfig(my_library.hafe0)"
   ]
  },
  {
   "cell_type": "markdown",
   "id": "6f5763d2",
   "metadata": {},
   "source": [
    "### Habilitar la generacion de señal rampa"
   ]
  },
  {
   "cell_type": "code",
   "execution_count": 17,
   "id": "65ca0617",
   "metadata": {},
   "outputs": [
    {
     "data": {
      "text/plain": [
       "0"
      ]
     },
     "execution_count": 17,
     "metadata": {},
     "output_type": "execute_result"
    }
   ],
   "source": [
    "#my_library.HAL_AFE_All0sTest(my_library.hafe0)\n",
    "#my_library.HAL_AFE_ToggleTest(my_library.hafe0)\n",
    "#my_library.HAL_AFE_All1sTest(my_library.hafe0)\n",
    "#my_library.HAL_AFE_CustomTest(my_library.hafe0)\n",
    "#my_library.HAL_AFE_SkewTest(my_library.hafe0)\n",
    "#my_library.HAL_AFE_SyncTest(my_library.hafe0)\n",
    "my_library.HAL_AFE_RampTest(my_library.hafe0)"
   ]
  },
  {
   "cell_type": "markdown",
   "id": "8e4a295c",
   "metadata": {},
   "source": [
    "\n",
    "# Lectura de datos de la DMA"
   ]
  },
  {
   "cell_type": "code",
   "execution_count": 18,
   "id": "c94a34d4",
   "metadata": {},
   "outputs": [],
   "source": [
    "f = open(\"/dev/mem\", \"r+b\")\n",
    "    \n",
    "# Mapear la memoria del DMA\n",
    "dma_sm = mmap.mmap(f.fileno(), DMA_MAP_SIZE, offset=DMA_SINE_ADDR)\n",
    "dst_sm = mmap.mmap(f.fileno(), DST_MAP_SIZE, offset=DST_SINE_ADDR)"
   ]
  },
  {
   "cell_type": "code",
   "execution_count": 19,
   "id": "91b4e0a8",
   "metadata": {},
   "outputs": [
    {
     "name": "stdout",
     "output_type": "stream",
     "text": [
      "Resetting the DMA...\n",
      "Stream to memory-mapped status (0x00000001):\n",
      "  Halted.\n",
      "\n",
      "Halting the DMA...\n",
      "Stream to memory-mapped status (0x00000001):\n",
      "  Halted.\n",
      "\n",
      "Enabling all interrupts...\n",
      "Stream to memory-mapped status (0x00000001):\n",
      "  Halted.\n",
      "\n",
      "Writing the destination address...\n",
      "Stream to memory-mapped status (0x00000001):\n",
      "  Halted.\n",
      "\n",
      "Running the S2MM channel...\n",
      "Stream to memory-mapped status (0x00000000):\n",
      "\n",
      "Writing S2MM transfer length of 8192 bytes...\n",
      "Stream to memory-mapped status (0x00005011):\n",
      "  Halted.\n",
      "  IOC interrupt occurred.\n",
      "\n",
      "Waiting for S2MM synchronization...\n",
      "Final DMA status:\n",
      "Stream to memory-mapped status (0x00005011):\n",
      "  Halted.\n",
      "  IOC interrupt occurred.\n",
      "\n"
     ]
    }
   ],
   "source": [
    "print(\"Resetting the DMA...\")\n",
    "write_dma(dma_sm, S2MM_CONTROL_REGISTER, RESET_DMA)\n",
    "dma_s2mm_status(dma_sm)\n",
    "\n",
    "print(\"Halting the DMA...\")\n",
    "write_dma(dma_sm, S2MM_CONTROL_REGISTER, HALT_DMA)\n",
    "dma_s2mm_status(dma_sm)\n",
    "\n",
    "print(\"Enabling all interrupts...\")\n",
    "write_dma(dma_sm, S2MM_CONTROL_REGISTER, ENABLE_ALL_IRQ)\n",
    "dma_s2mm_status(dma_sm)\n",
    "\n",
    "print(\"Writing the destination address...\")\n",
    "write_dma(dma_sm, S2MM_DST_ADDRESS_REGISTER, DST_SINE_ADDR)\n",
    "dma_s2mm_status(dma_sm)\n",
    "\n",
    "print(\"Running the S2MM channel...\")\n",
    "write_dma(dma_sm, S2MM_CONTROL_REGISTER, RUN_DMA)\n",
    "dma_s2mm_status(dma_sm)\n",
    "\n",
    "print(\"Writing S2MM transfer length of 8192 bytes...\")\n",
    "write_dma(dma_sm, S2MM_BUFF_LENGTH_REGISTER, DST_MAP_SIZE)\n",
    "dma_s2mm_status(dma_sm)\n",
    "\n",
    "print(\"Waiting for S2MM synchronization...\")\n",
    "dma_s2mm_sync(dma_sm)\n",
    "\n",
    "print(\"Final DMA status:\")\n",
    "dma_s2mm_status(dma_sm)"
   ]
  },
  {
   "cell_type": "code",
   "execution_count": 20,
   "id": "6fd2653e",
   "metadata": {},
   "outputs": [],
   "source": [
    "data = get_mem_data(dst_sm, DST_MAP_SIZE)"
   ]
  },
  {
   "cell_type": "code",
   "execution_count": 21,
   "id": "f30d145e",
   "metadata": {},
   "outputs": [
    {
     "data": {
      "image/png": "[encoded data removed]",
      "text/plain": [
       "<Figure size 720x288 with 1 Axes>"
      ]
     },
     "metadata": {
      "needs_background": "light"
     },
     "output_type": "display_data"
    }
   ],
   "source": [
    "plot_mem_data(data)"
   ]
  },
  {
   "cell_type": "code",
   "execution_count": 22,
   "id": "92168b78",
   "metadata": {},
   "outputs": [],
   "source": [
    "def plot_data(data):\n",
    "    # Graficar los datos y su derivada\n",
    "    plt.figure(figsize=(10, 4))\n",
    "\n",
    "    # Graficar los datos originales\n",
    "    #plt.subplot(2, 1, 1)\n",
    "    plt.plot(data, label=\"Datos Originales\")\n",
    "    plt.title(\"Señal Original\")\n",
    "    plt.xlabel(\"Índice\")\n",
    "    plt.ylabel(\"Valor de la Señal\")\n",
    "    plt.grid(True)\n",
    "    plt.legend()\n",
    "    plt.xlim([0,8191])\n",
    "    #plt.ylim([data[1000],data[7000]])\n",
    "    #plt.show()"
   ]
  },
  {
   "cell_type": "code",
   "execution_count": 23,
   "id": "be86495b",
   "metadata": {},
   "outputs": [
    {
     "data": {
      "text/plain": [
       "0"
      ]
     },
     "execution_count": 23,
     "metadata": {},
     "output_type": "execute_result"
    }
   ],
   "source": [
    "#my_library.HAL_AFE_All0sTest(my_library.hafe0)\n",
    "#my_library.HAL_AFE_ToggleTest(my_library.hafe0)\n",
    "my_library.HAL_AFE_All1sTest(my_library.hafe0)\n",
    "#my_library.HAL_AFE_CustomTest(my_library.hafe0)\n",
    "#my_library.HAL_AFE_SkewTest(my_library.hafe0)\n",
    "#my_library.HAL_AFE_SyncTest(my_library.hafe0)\n",
    "#my_library.HAL_AFE_RampTest(my_library.hafe0)"
   ]
  },
  {
   "cell_type": "code",
   "execution_count": 24,
   "id": "fdedfc8e",
   "metadata": {},
   "outputs": [],
   "source": [
    "f = open(\"/dev/mem\", \"r+b\")\n",
    "    \n",
    "# Mapear la memoria del DMA\n",
    "dma_sm = mmap.mmap(f.fileno(), DMA_MAP_SIZE, offset=DMA_DIFF_ADDR)\n",
    "dst_sm = mmap.mmap(f.fileno(), DST_MAP_SIZE, offset=DST_DIFF_ADDR)"
   ]
  },
  {
   "cell_type": "code",
   "execution_count": 27,
   "id": "091e6b14",
   "metadata": {},
   "outputs": [
    {
     "data": {
      "image/png": "[encoded data removed]",
      "text/plain": [
       "<Figure size 720x288 with 1 Axes>"
      ]
     },
     "metadata": {
      "needs_background": "light"
     },
     "output_type": "display_data"
    }
   ],
   "source": [
    "write_dma(dma_sm, S2MM_CONTROL_REGISTER, RESET_DMA)\n",
    "write_dma(dma_sm, S2MM_CONTROL_REGISTER, HALT_DMA)\n",
    "write_dma(dma_sm, S2MM_CONTROL_REGISTER, ENABLE_ALL_IRQ)\n",
    "write_dma(dma_sm, S2MM_DST_ADDRESS_REGISTER, DST_SINE_ADDR)\n",
    "write_dma(dma_sm, S2MM_CONTROL_REGISTER, RUN_DMA)\n",
    "write_dma(dma_sm, S2MM_BUFF_LENGTH_REGISTER, DST_MAP_SIZE)\n",
    "\n",
    "data = get_mem_data(dst_sm, DST_MAP_SIZE)\n",
    "\n",
    "plot_data(data)\n"
   ]
  }
 ],
 "metadata": {
  "kernelspec": {
   "display_name": "Python 3 (ipykernel)",
   "language": "python",
   "name": "python3"
  },
  "language_info": {
   "codemirror_mode": {
    "name": "ipython",
    "version": 3
   },
   "file_extension": ".py",
   "mimetype": "text/x-python",
   "name": "python",
   "nbconvert_exporter": "python",
   "pygments_lexer": "ipython3",
   "version": "3.9.9"
  }
 },
 "nbformat": 4,
 "nbformat_minor": 5
}
